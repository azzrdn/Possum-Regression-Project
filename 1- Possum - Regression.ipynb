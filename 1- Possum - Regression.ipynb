{
 "cells": [
  {
   "cell_type": "code",
   "execution_count": 1,
   "id": "b0949340",
   "metadata": {},
   "outputs": [],
   "source": [
    "import pandas as pd"
   ]
  },
  {
   "cell_type": "code",
   "execution_count": 2,
   "id": "0c260874",
   "metadata": {},
   "outputs": [],
   "source": [
    "df = pd.read_csv(\"possum.csv\")"
   ]
  },
  {
   "cell_type": "code",
   "execution_count": 3,
   "id": "acf2463e",
   "metadata": {},
   "outputs": [
    {
     "data": {
      "text/html": [
       "<div>\n",
       "<style scoped>\n",
       "    .dataframe tbody tr th:only-of-type {\n",
       "        vertical-align: middle;\n",
       "    }\n",
       "\n",
       "    .dataframe tbody tr th {\n",
       "        vertical-align: top;\n",
       "    }\n",
       "\n",
       "    .dataframe thead th {\n",
       "        text-align: right;\n",
       "    }\n",
       "</style>\n",
       "<table border=\"1\" class=\"dataframe\">\n",
       "  <thead>\n",
       "    <tr style=\"text-align: right;\">\n",
       "      <th></th>\n",
       "      <th>case</th>\n",
       "      <th>site</th>\n",
       "      <th>Pop</th>\n",
       "      <th>sex</th>\n",
       "      <th>age</th>\n",
       "      <th>hdlngth</th>\n",
       "      <th>skullw</th>\n",
       "      <th>totlngth</th>\n",
       "      <th>taill</th>\n",
       "      <th>footlgth</th>\n",
       "      <th>earconch</th>\n",
       "      <th>eye</th>\n",
       "      <th>chest</th>\n",
       "      <th>belly</th>\n",
       "    </tr>\n",
       "  </thead>\n",
       "  <tbody>\n",
       "    <tr>\n",
       "      <th>0</th>\n",
       "      <td>1</td>\n",
       "      <td>1</td>\n",
       "      <td>Vic</td>\n",
       "      <td>m</td>\n",
       "      <td>8.0</td>\n",
       "      <td>94.1</td>\n",
       "      <td>60.4</td>\n",
       "      <td>89.0</td>\n",
       "      <td>36.0</td>\n",
       "      <td>74.5</td>\n",
       "      <td>54.5</td>\n",
       "      <td>15.2</td>\n",
       "      <td>28.0</td>\n",
       "      <td>36.0</td>\n",
       "    </tr>\n",
       "    <tr>\n",
       "      <th>1</th>\n",
       "      <td>2</td>\n",
       "      <td>1</td>\n",
       "      <td>Vic</td>\n",
       "      <td>f</td>\n",
       "      <td>6.0</td>\n",
       "      <td>92.5</td>\n",
       "      <td>57.6</td>\n",
       "      <td>91.5</td>\n",
       "      <td>36.5</td>\n",
       "      <td>72.5</td>\n",
       "      <td>51.2</td>\n",
       "      <td>16.0</td>\n",
       "      <td>28.5</td>\n",
       "      <td>33.0</td>\n",
       "    </tr>\n",
       "    <tr>\n",
       "      <th>2</th>\n",
       "      <td>3</td>\n",
       "      <td>1</td>\n",
       "      <td>Vic</td>\n",
       "      <td>f</td>\n",
       "      <td>6.0</td>\n",
       "      <td>94.0</td>\n",
       "      <td>60.0</td>\n",
       "      <td>95.5</td>\n",
       "      <td>39.0</td>\n",
       "      <td>75.4</td>\n",
       "      <td>51.9</td>\n",
       "      <td>15.5</td>\n",
       "      <td>30.0</td>\n",
       "      <td>34.0</td>\n",
       "    </tr>\n",
       "    <tr>\n",
       "      <th>3</th>\n",
       "      <td>4</td>\n",
       "      <td>1</td>\n",
       "      <td>Vic</td>\n",
       "      <td>f</td>\n",
       "      <td>6.0</td>\n",
       "      <td>93.2</td>\n",
       "      <td>57.1</td>\n",
       "      <td>92.0</td>\n",
       "      <td>38.0</td>\n",
       "      <td>76.1</td>\n",
       "      <td>52.2</td>\n",
       "      <td>15.2</td>\n",
       "      <td>28.0</td>\n",
       "      <td>34.0</td>\n",
       "    </tr>\n",
       "    <tr>\n",
       "      <th>4</th>\n",
       "      <td>5</td>\n",
       "      <td>1</td>\n",
       "      <td>Vic</td>\n",
       "      <td>f</td>\n",
       "      <td>2.0</td>\n",
       "      <td>91.5</td>\n",
       "      <td>56.3</td>\n",
       "      <td>85.5</td>\n",
       "      <td>36.0</td>\n",
       "      <td>71.0</td>\n",
       "      <td>53.2</td>\n",
       "      <td>15.1</td>\n",
       "      <td>28.5</td>\n",
       "      <td>33.0</td>\n",
       "    </tr>\n",
       "    <tr>\n",
       "      <th>...</th>\n",
       "      <td>...</td>\n",
       "      <td>...</td>\n",
       "      <td>...</td>\n",
       "      <td>...</td>\n",
       "      <td>...</td>\n",
       "      <td>...</td>\n",
       "      <td>...</td>\n",
       "      <td>...</td>\n",
       "      <td>...</td>\n",
       "      <td>...</td>\n",
       "      <td>...</td>\n",
       "      <td>...</td>\n",
       "      <td>...</td>\n",
       "      <td>...</td>\n",
       "    </tr>\n",
       "    <tr>\n",
       "      <th>99</th>\n",
       "      <td>100</td>\n",
       "      <td>7</td>\n",
       "      <td>other</td>\n",
       "      <td>m</td>\n",
       "      <td>1.0</td>\n",
       "      <td>89.5</td>\n",
       "      <td>56.0</td>\n",
       "      <td>81.5</td>\n",
       "      <td>36.5</td>\n",
       "      <td>66.0</td>\n",
       "      <td>46.8</td>\n",
       "      <td>14.8</td>\n",
       "      <td>23.0</td>\n",
       "      <td>27.0</td>\n",
       "    </tr>\n",
       "    <tr>\n",
       "      <th>100</th>\n",
       "      <td>101</td>\n",
       "      <td>7</td>\n",
       "      <td>other</td>\n",
       "      <td>m</td>\n",
       "      <td>1.0</td>\n",
       "      <td>88.6</td>\n",
       "      <td>54.7</td>\n",
       "      <td>82.5</td>\n",
       "      <td>39.0</td>\n",
       "      <td>64.4</td>\n",
       "      <td>48.0</td>\n",
       "      <td>14.0</td>\n",
       "      <td>25.0</td>\n",
       "      <td>33.0</td>\n",
       "    </tr>\n",
       "    <tr>\n",
       "      <th>101</th>\n",
       "      <td>102</td>\n",
       "      <td>7</td>\n",
       "      <td>other</td>\n",
       "      <td>f</td>\n",
       "      <td>6.0</td>\n",
       "      <td>92.4</td>\n",
       "      <td>55.0</td>\n",
       "      <td>89.0</td>\n",
       "      <td>38.0</td>\n",
       "      <td>63.5</td>\n",
       "      <td>45.4</td>\n",
       "      <td>13.0</td>\n",
       "      <td>25.0</td>\n",
       "      <td>30.0</td>\n",
       "    </tr>\n",
       "    <tr>\n",
       "      <th>102</th>\n",
       "      <td>103</td>\n",
       "      <td>7</td>\n",
       "      <td>other</td>\n",
       "      <td>m</td>\n",
       "      <td>4.0</td>\n",
       "      <td>91.5</td>\n",
       "      <td>55.2</td>\n",
       "      <td>82.5</td>\n",
       "      <td>36.5</td>\n",
       "      <td>62.9</td>\n",
       "      <td>45.9</td>\n",
       "      <td>15.4</td>\n",
       "      <td>25.0</td>\n",
       "      <td>29.0</td>\n",
       "    </tr>\n",
       "    <tr>\n",
       "      <th>103</th>\n",
       "      <td>104</td>\n",
       "      <td>7</td>\n",
       "      <td>other</td>\n",
       "      <td>f</td>\n",
       "      <td>3.0</td>\n",
       "      <td>93.6</td>\n",
       "      <td>59.9</td>\n",
       "      <td>89.0</td>\n",
       "      <td>40.0</td>\n",
       "      <td>67.6</td>\n",
       "      <td>46.0</td>\n",
       "      <td>14.8</td>\n",
       "      <td>28.5</td>\n",
       "      <td>33.5</td>\n",
       "    </tr>\n",
       "  </tbody>\n",
       "</table>\n",
       "<p>104 rows × 14 columns</p>\n",
       "</div>"
      ],
      "text/plain": [
       "     case  site    Pop sex  age  hdlngth  skullw  totlngth  taill  footlgth  \\\n",
       "0       1     1    Vic   m  8.0     94.1    60.4      89.0   36.0      74.5   \n",
       "1       2     1    Vic   f  6.0     92.5    57.6      91.5   36.5      72.5   \n",
       "2       3     1    Vic   f  6.0     94.0    60.0      95.5   39.0      75.4   \n",
       "3       4     1    Vic   f  6.0     93.2    57.1      92.0   38.0      76.1   \n",
       "4       5     1    Vic   f  2.0     91.5    56.3      85.5   36.0      71.0   \n",
       "..    ...   ...    ...  ..  ...      ...     ...       ...    ...       ...   \n",
       "99    100     7  other   m  1.0     89.5    56.0      81.5   36.5      66.0   \n",
       "100   101     7  other   m  1.0     88.6    54.7      82.5   39.0      64.4   \n",
       "101   102     7  other   f  6.0     92.4    55.0      89.0   38.0      63.5   \n",
       "102   103     7  other   m  4.0     91.5    55.2      82.5   36.5      62.9   \n",
       "103   104     7  other   f  3.0     93.6    59.9      89.0   40.0      67.6   \n",
       "\n",
       "     earconch   eye  chest  belly  \n",
       "0        54.5  15.2   28.0   36.0  \n",
       "1        51.2  16.0   28.5   33.0  \n",
       "2        51.9  15.5   30.0   34.0  \n",
       "3        52.2  15.2   28.0   34.0  \n",
       "4        53.2  15.1   28.5   33.0  \n",
       "..        ...   ...    ...    ...  \n",
       "99       46.8  14.8   23.0   27.0  \n",
       "100      48.0  14.0   25.0   33.0  \n",
       "101      45.4  13.0   25.0   30.0  \n",
       "102      45.9  15.4   25.0   29.0  \n",
       "103      46.0  14.8   28.5   33.5  \n",
       "\n",
       "[104 rows x 14 columns]"
      ]
     },
     "execution_count": 3,
     "metadata": {},
     "output_type": "execute_result"
    }
   ],
   "source": [
    "df"
   ]
  },
  {
   "cell_type": "code",
   "execution_count": 4,
   "id": "a747b8d2",
   "metadata": {},
   "outputs": [
    {
     "name": "stdout",
     "output_type": "stream",
     "text": [
      "<class 'pandas.core.frame.DataFrame'>\n",
      "RangeIndex: 104 entries, 0 to 103\n",
      "Data columns (total 14 columns):\n",
      " #   Column    Non-Null Count  Dtype  \n",
      "---  ------    --------------  -----  \n",
      " 0   case      104 non-null    int64  \n",
      " 1   site      104 non-null    int64  \n",
      " 2   Pop       104 non-null    object \n",
      " 3   sex       104 non-null    object \n",
      " 4   age       102 non-null    float64\n",
      " 5   hdlngth   104 non-null    float64\n",
      " 6   skullw    104 non-null    float64\n",
      " 7   totlngth  104 non-null    float64\n",
      " 8   taill     104 non-null    float64\n",
      " 9   footlgth  103 non-null    float64\n",
      " 10  earconch  104 non-null    float64\n",
      " 11  eye       104 non-null    float64\n",
      " 12  chest     104 non-null    float64\n",
      " 13  belly     104 non-null    float64\n",
      "dtypes: float64(10), int64(2), object(2)\n",
      "memory usage: 11.5+ KB\n"
     ]
    }
   ],
   "source": [
    "df.info()"
   ]
  },
  {
   "cell_type": "code",
   "execution_count": 5,
   "id": "bccd9941",
   "metadata": {},
   "outputs": [
    {
     "data": {
      "text/plain": [
       "case        0\n",
       "site        0\n",
       "Pop         0\n",
       "sex         0\n",
       "age         2\n",
       "hdlngth     0\n",
       "skullw      0\n",
       "totlngth    0\n",
       "taill       0\n",
       "footlgth    1\n",
       "earconch    0\n",
       "eye         0\n",
       "chest       0\n",
       "belly       0\n",
       "dtype: int64"
      ]
     },
     "execution_count": 5,
     "metadata": {},
     "output_type": "execute_result"
    }
   ],
   "source": [
    "df.isnull().sum()"
   ]
  },
  {
   "cell_type": "code",
   "execution_count": 9,
   "id": "9562b60e",
   "metadata": {},
   "outputs": [
    {
     "data": {
      "text/plain": [
       "68.45922330097089"
      ]
     },
     "execution_count": 9,
     "metadata": {},
     "output_type": "execute_result"
    }
   ],
   "source": [
    "df[\"footlgth\"].mean()"
   ]
  },
  {
   "cell_type": "code",
   "execution_count": 11,
   "id": "8c96d287",
   "metadata": {},
   "outputs": [
    {
     "data": {
      "text/plain": [
       "Series([], Name: footlgth, dtype: float64)"
      ]
     },
     "execution_count": 11,
     "metadata": {},
     "output_type": "execute_result"
    }
   ],
   "source": [
    "df[\"footlgth\"][df[\"footlgth\"].isnull()==True]"
   ]
  },
  {
   "cell_type": "code",
   "execution_count": 10,
   "id": "32b75b58",
   "metadata": {},
   "outputs": [
    {
     "name": "stderr",
     "output_type": "stream",
     "text": [
      "C:\\Users\\azzrd\\AppData\\Local\\Temp\\ipykernel_32\\811024244.py:1: SettingWithCopyWarning: \n",
      "A value is trying to be set on a copy of a slice from a DataFrame\n",
      "\n",
      "See the caveats in the documentation: https://pandas.pydata.org/pandas-docs/stable/user_guide/indexing.html#returning-a-view-versus-a-copy\n",
      "  df[\"footlgth\"][df[\"footlgth\"].isnull()==True] = df[\"footlgth\"].mean()\n"
     ]
    }
   ],
   "source": [
    "df[\"footlgth\"][df[\"footlgth\"].isnull()==True] = df[\"footlgth\"].mean()"
   ]
  },
  {
   "cell_type": "code",
   "execution_count": 13,
   "id": "bb39caab",
   "metadata": {},
   "outputs": [
    {
     "data": {
      "text/plain": [
       "43   NaN\n",
       "45   NaN\n",
       "Name: age, dtype: float64"
      ]
     },
     "execution_count": 13,
     "metadata": {},
     "output_type": "execute_result"
    }
   ],
   "source": [
    "df[\"age\"][df[\"age\"].isnull()==True]"
   ]
  },
  {
   "cell_type": "code",
   "execution_count": 14,
   "id": "1397467c",
   "metadata": {},
   "outputs": [],
   "source": [
    "data = df.drop([43,45])"
   ]
  },
  {
   "cell_type": "code",
   "execution_count": 16,
   "id": "e0a15e36",
   "metadata": {},
   "outputs": [],
   "source": [
    "data.reset_index(drop=True, inplace=True)"
   ]
  },
  {
   "cell_type": "code",
   "execution_count": 17,
   "id": "8f5e0831",
   "metadata": {},
   "outputs": [
    {
     "name": "stdout",
     "output_type": "stream",
     "text": [
      "<class 'pandas.core.frame.DataFrame'>\n",
      "RangeIndex: 102 entries, 0 to 101\n",
      "Data columns (total 14 columns):\n",
      " #   Column    Non-Null Count  Dtype  \n",
      "---  ------    --------------  -----  \n",
      " 0   case      102 non-null    int64  \n",
      " 1   site      102 non-null    int64  \n",
      " 2   Pop       102 non-null    object \n",
      " 3   sex       102 non-null    object \n",
      " 4   age       102 non-null    float64\n",
      " 5   hdlngth   102 non-null    float64\n",
      " 6   skullw    102 non-null    float64\n",
      " 7   totlngth  102 non-null    float64\n",
      " 8   taill     102 non-null    float64\n",
      " 9   footlgth  102 non-null    float64\n",
      " 10  earconch  102 non-null    float64\n",
      " 11  eye       102 non-null    float64\n",
      " 12  chest     102 non-null    float64\n",
      " 13  belly     102 non-null    float64\n",
      "dtypes: float64(10), int64(2), object(2)\n",
      "memory usage: 11.3+ KB\n"
     ]
    }
   ],
   "source": [
    "data.info()"
   ]
  },
  {
   "cell_type": "code",
   "execution_count": 36,
   "id": "c99d3182",
   "metadata": {},
   "outputs": [
    {
     "data": {
      "text/plain": [
       "other    58\n",
       "Vic      44\n",
       "Name: Pop, dtype: int64"
      ]
     },
     "execution_count": 36,
     "metadata": {},
     "output_type": "execute_result"
    }
   ],
   "source": [
    "data[\"Pop\"].value_counts()"
   ]
  },
  {
   "cell_type": "code",
   "execution_count": 38,
   "id": "3663a7c1",
   "metadata": {},
   "outputs": [
    {
     "data": {
      "text/plain": [
       "m    59\n",
       "f    43\n",
       "Name: sex, dtype: int64"
      ]
     },
     "execution_count": 38,
     "metadata": {},
     "output_type": "execute_result"
    }
   ],
   "source": [
    "data[\"sex\"].value_counts()"
   ]
  },
  {
   "cell_type": "code",
   "execution_count": 31,
   "id": "4b7b6664",
   "metadata": {},
   "outputs": [
    {
     "data": {
      "text/plain": [
       "belly       0.354298\n",
       "chest       0.334209\n",
       "hdlngth     0.319022\n",
       "skullw      0.285107\n",
       "totlngth    0.260280\n",
       "eye         0.235553\n",
       "Name: age, dtype: float64"
      ]
     },
     "execution_count": 31,
     "metadata": {},
     "output_type": "execute_result"
    }
   ],
   "source": [
    "corr = data.corr()[(data.corr()[\"age\"]>0.2) & (data.corr()[\"age\"]<0.9)][\"age\"].sort_values(ascending = False)\n",
    "corr"
   ]
  },
  {
   "cell_type": "code",
   "execution_count": 39,
   "id": "138506a5",
   "metadata": {},
   "outputs": [
    {
     "data": {
      "text/plain": [
       "pandas.core.indexes.base.Index"
      ]
     },
     "execution_count": 39,
     "metadata": {},
     "output_type": "execute_result"
    }
   ],
   "source": [
    "indexes = corr.index\n",
    "indexes"
   ]
  },
  {
   "cell_type": "code",
   "execution_count": 40,
   "id": "4ab19f34",
   "metadata": {},
   "outputs": [],
   "source": [
    "x = data[['belly', 'chest', 'hdlngth', 'skullw', 'totlngth', 'eye', \"sex\", \"Pop\"]]\n",
    "x = pd.get_dummies(x, drop_first = True, )\n",
    "y = data[\"age\"]"
   ]
  },
  {
   "cell_type": "code",
   "execution_count": 41,
   "id": "5f63eab5",
   "metadata": {},
   "outputs": [
    {
     "data": {
      "text/html": [
       "<div>\n",
       "<style scoped>\n",
       "    .dataframe tbody tr th:only-of-type {\n",
       "        vertical-align: middle;\n",
       "    }\n",
       "\n",
       "    .dataframe tbody tr th {\n",
       "        vertical-align: top;\n",
       "    }\n",
       "\n",
       "    .dataframe thead th {\n",
       "        text-align: right;\n",
       "    }\n",
       "</style>\n",
       "<table border=\"1\" class=\"dataframe\">\n",
       "  <thead>\n",
       "    <tr style=\"text-align: right;\">\n",
       "      <th></th>\n",
       "      <th>belly</th>\n",
       "      <th>chest</th>\n",
       "      <th>hdlngth</th>\n",
       "      <th>skullw</th>\n",
       "      <th>totlngth</th>\n",
       "      <th>eye</th>\n",
       "      <th>sex_m</th>\n",
       "      <th>Pop_other</th>\n",
       "    </tr>\n",
       "  </thead>\n",
       "  <tbody>\n",
       "    <tr>\n",
       "      <th>0</th>\n",
       "      <td>36.0</td>\n",
       "      <td>28.0</td>\n",
       "      <td>94.1</td>\n",
       "      <td>60.4</td>\n",
       "      <td>89.0</td>\n",
       "      <td>15.2</td>\n",
       "      <td>1</td>\n",
       "      <td>0</td>\n",
       "    </tr>\n",
       "    <tr>\n",
       "      <th>1</th>\n",
       "      <td>33.0</td>\n",
       "      <td>28.5</td>\n",
       "      <td>92.5</td>\n",
       "      <td>57.6</td>\n",
       "      <td>91.5</td>\n",
       "      <td>16.0</td>\n",
       "      <td>0</td>\n",
       "      <td>0</td>\n",
       "    </tr>\n",
       "    <tr>\n",
       "      <th>2</th>\n",
       "      <td>34.0</td>\n",
       "      <td>30.0</td>\n",
       "      <td>94.0</td>\n",
       "      <td>60.0</td>\n",
       "      <td>95.5</td>\n",
       "      <td>15.5</td>\n",
       "      <td>0</td>\n",
       "      <td>0</td>\n",
       "    </tr>\n",
       "    <tr>\n",
       "      <th>3</th>\n",
       "      <td>34.0</td>\n",
       "      <td>28.0</td>\n",
       "      <td>93.2</td>\n",
       "      <td>57.1</td>\n",
       "      <td>92.0</td>\n",
       "      <td>15.2</td>\n",
       "      <td>0</td>\n",
       "      <td>0</td>\n",
       "    </tr>\n",
       "    <tr>\n",
       "      <th>4</th>\n",
       "      <td>33.0</td>\n",
       "      <td>28.5</td>\n",
       "      <td>91.5</td>\n",
       "      <td>56.3</td>\n",
       "      <td>85.5</td>\n",
       "      <td>15.1</td>\n",
       "      <td>0</td>\n",
       "      <td>0</td>\n",
       "    </tr>\n",
       "    <tr>\n",
       "      <th>...</th>\n",
       "      <td>...</td>\n",
       "      <td>...</td>\n",
       "      <td>...</td>\n",
       "      <td>...</td>\n",
       "      <td>...</td>\n",
       "      <td>...</td>\n",
       "      <td>...</td>\n",
       "      <td>...</td>\n",
       "    </tr>\n",
       "    <tr>\n",
       "      <th>97</th>\n",
       "      <td>27.0</td>\n",
       "      <td>23.0</td>\n",
       "      <td>89.5</td>\n",
       "      <td>56.0</td>\n",
       "      <td>81.5</td>\n",
       "      <td>14.8</td>\n",
       "      <td>1</td>\n",
       "      <td>1</td>\n",
       "    </tr>\n",
       "    <tr>\n",
       "      <th>98</th>\n",
       "      <td>33.0</td>\n",
       "      <td>25.0</td>\n",
       "      <td>88.6</td>\n",
       "      <td>54.7</td>\n",
       "      <td>82.5</td>\n",
       "      <td>14.0</td>\n",
       "      <td>1</td>\n",
       "      <td>1</td>\n",
       "    </tr>\n",
       "    <tr>\n",
       "      <th>99</th>\n",
       "      <td>30.0</td>\n",
       "      <td>25.0</td>\n",
       "      <td>92.4</td>\n",
       "      <td>55.0</td>\n",
       "      <td>89.0</td>\n",
       "      <td>13.0</td>\n",
       "      <td>0</td>\n",
       "      <td>1</td>\n",
       "    </tr>\n",
       "    <tr>\n",
       "      <th>100</th>\n",
       "      <td>29.0</td>\n",
       "      <td>25.0</td>\n",
       "      <td>91.5</td>\n",
       "      <td>55.2</td>\n",
       "      <td>82.5</td>\n",
       "      <td>15.4</td>\n",
       "      <td>1</td>\n",
       "      <td>1</td>\n",
       "    </tr>\n",
       "    <tr>\n",
       "      <th>101</th>\n",
       "      <td>33.5</td>\n",
       "      <td>28.5</td>\n",
       "      <td>93.6</td>\n",
       "      <td>59.9</td>\n",
       "      <td>89.0</td>\n",
       "      <td>14.8</td>\n",
       "      <td>0</td>\n",
       "      <td>1</td>\n",
       "    </tr>\n",
       "  </tbody>\n",
       "</table>\n",
       "<p>102 rows × 8 columns</p>\n",
       "</div>"
      ],
      "text/plain": [
       "     belly  chest  hdlngth  skullw  totlngth   eye  sex_m  Pop_other\n",
       "0     36.0   28.0     94.1    60.4      89.0  15.2      1          0\n",
       "1     33.0   28.5     92.5    57.6      91.5  16.0      0          0\n",
       "2     34.0   30.0     94.0    60.0      95.5  15.5      0          0\n",
       "3     34.0   28.0     93.2    57.1      92.0  15.2      0          0\n",
       "4     33.0   28.5     91.5    56.3      85.5  15.1      0          0\n",
       "..     ...    ...      ...     ...       ...   ...    ...        ...\n",
       "97    27.0   23.0     89.5    56.0      81.5  14.8      1          1\n",
       "98    33.0   25.0     88.6    54.7      82.5  14.0      1          1\n",
       "99    30.0   25.0     92.4    55.0      89.0  13.0      0          1\n",
       "100   29.0   25.0     91.5    55.2      82.5  15.4      1          1\n",
       "101   33.5   28.5     93.6    59.9      89.0  14.8      0          1\n",
       "\n",
       "[102 rows x 8 columns]"
      ]
     },
     "execution_count": 41,
     "metadata": {},
     "output_type": "execute_result"
    }
   ],
   "source": [
    "x"
   ]
  },
  {
   "cell_type": "markdown",
   "id": "5d82f723",
   "metadata": {},
   "source": [
    "# Machine Learning - Regression"
   ]
  },
  {
   "cell_type": "code",
   "execution_count": 44,
   "id": "5b2cfd9b",
   "metadata": {},
   "outputs": [],
   "source": [
    "from sklearn.metrics import r2_score, mean_squared_error, mean_absolute_error\n",
    "from sklearn.linear_model import LinearRegression, ElasticNet, Ridge, Lasso\n",
    "from sklearn.tree import ExtraTreeRegressor\n",
    "from sklearn.ensemble import GradientBoostingRegressor\n",
    "from xgboost import XGBRegressor\n",
    "\n",
    "from sklearn.model_selection import train_test_split"
   ]
  },
  {
   "cell_type": "code",
   "execution_count": 45,
   "id": "322bacaa",
   "metadata": {},
   "outputs": [],
   "source": [
    "def regression_test(x,y):\n",
    "    \n",
    "    L = LinearRegression()\n",
    "    E = ElasticNet()\n",
    "    R = Ridge()\n",
    "    Lass = Lasso()\n",
    "    ETR = ExtraTreeRegressor()\n",
    "    GBR = GradientBoostingRegressor()\n",
    "    XGBC = XGBRegressor()\n",
    "    \n",
    "    x_train,x_test,y_train,y_test = train_test_split(x,y, test_size = 0.20, random_state=42)\n",
    "    \n",
    "    aziz_models = [L, E, R, Lass, ETR, GBR, XGBC]\n",
    "    aziz_names = [\"Linear Reg.\", \"ElasticNet Reg.\", \"Ridge Reg.\", \"Lasso Reg.\",\n",
    "                 \"Extra Tree Reg.\", \"Gadient Boosting Reg.\", \"xGradient Boosting Reg.\"]\n",
    "    r_squared = []\n",
    "    rmse = []\n",
    "    mae = []\n",
    "    \n",
    "    result = pd.DataFrame(columns = [\"R_Squared\", \"RMSE\", \"MAE\"], index = aziz_names)\n",
    "    \n",
    "    for aziz in aziz_models:\n",
    "        aziz.fit(x_train, y_train)\n",
    "        az = aziz.predict(x_test)\n",
    "        \n",
    "        r_squared.append(r2_score(y_test, az))\n",
    "        rmse.append(mean_squared_error(y_test, az)**.5)\n",
    "        mae.append(mean_absolute_error(y_test, az))\n",
    "    \n",
    "    \n",
    "    \n",
    "    result.R_Squared = r_squared\n",
    "    result.RMSE = rmse\n",
    "    result.MAE = mae\n",
    "    \n",
    "    return result.sort_values(\"R_Squared\", ascending = False)"
   ]
  },
  {
   "cell_type": "code",
   "execution_count": 46,
   "id": "28d22b3a",
   "metadata": {},
   "outputs": [
    {
     "data": {
      "text/html": [
       "<div>\n",
       "<style scoped>\n",
       "    .dataframe tbody tr th:only-of-type {\n",
       "        vertical-align: middle;\n",
       "    }\n",
       "\n",
       "    .dataframe tbody tr th {\n",
       "        vertical-align: top;\n",
       "    }\n",
       "\n",
       "    .dataframe thead th {\n",
       "        text-align: right;\n",
       "    }\n",
       "</style>\n",
       "<table border=\"1\" class=\"dataframe\">\n",
       "  <thead>\n",
       "    <tr style=\"text-align: right;\">\n",
       "      <th></th>\n",
       "      <th>R_Squared</th>\n",
       "      <th>RMSE</th>\n",
       "      <th>MAE</th>\n",
       "    </tr>\n",
       "  </thead>\n",
       "  <tbody>\n",
       "    <tr>\n",
       "      <th>Extra Tree Reg.</th>\n",
       "      <td>0.406250</td>\n",
       "      <td>1.647509</td>\n",
       "      <td>1.190476</td>\n",
       "    </tr>\n",
       "    <tr>\n",
       "      <th>Gadient Boosting Reg.</th>\n",
       "      <td>0.339939</td>\n",
       "      <td>1.737073</td>\n",
       "      <td>1.349681</td>\n",
       "    </tr>\n",
       "    <tr>\n",
       "      <th>xGradient Boosting Reg.</th>\n",
       "      <td>0.331074</td>\n",
       "      <td>1.748699</td>\n",
       "      <td>1.249664</td>\n",
       "    </tr>\n",
       "    <tr>\n",
       "      <th>Ridge Reg.</th>\n",
       "      <td>0.208038</td>\n",
       "      <td>1.902734</td>\n",
       "      <td>1.457248</td>\n",
       "    </tr>\n",
       "    <tr>\n",
       "      <th>Linear Reg.</th>\n",
       "      <td>0.206971</td>\n",
       "      <td>1.904016</td>\n",
       "      <td>1.459020</td>\n",
       "    </tr>\n",
       "    <tr>\n",
       "      <th>ElasticNet Reg.</th>\n",
       "      <td>0.145124</td>\n",
       "      <td>1.976868</td>\n",
       "      <td>1.573346</td>\n",
       "    </tr>\n",
       "    <tr>\n",
       "      <th>Lasso Reg.</th>\n",
       "      <td>0.068908</td>\n",
       "      <td>2.063109</td>\n",
       "      <td>1.662784</td>\n",
       "    </tr>\n",
       "  </tbody>\n",
       "</table>\n",
       "</div>"
      ],
      "text/plain": [
       "                         R_Squared      RMSE       MAE\n",
       "Extra Tree Reg.           0.406250  1.647509  1.190476\n",
       "Gadient Boosting Reg.     0.339939  1.737073  1.349681\n",
       "xGradient Boosting Reg.   0.331074  1.748699  1.249664\n",
       "Ridge Reg.                0.208038  1.902734  1.457248\n",
       "Linear Reg.               0.206971  1.904016  1.459020\n",
       "ElasticNet Reg.           0.145124  1.976868  1.573346\n",
       "Lasso Reg.                0.068908  2.063109  1.662784"
      ]
     },
     "execution_count": 46,
     "metadata": {},
     "output_type": "execute_result"
    }
   ],
   "source": [
    "regression_test(x,y)"
   ]
  },
  {
   "cell_type": "code",
   "execution_count": null,
   "id": "a04cf319",
   "metadata": {},
   "outputs": [],
   "source": []
  }
 ],
 "metadata": {
  "kernelspec": {
   "display_name": "Python 3 (ipykernel)",
   "language": "python",
   "name": "python3"
  },
  "language_info": {
   "codemirror_mode": {
    "name": "ipython",
    "version": 3
   },
   "file_extension": ".py",
   "mimetype": "text/x-python",
   "name": "python",
   "nbconvert_exporter": "python",
   "pygments_lexer": "ipython3",
   "version": "3.9.12"
  }
 },
 "nbformat": 4,
 "nbformat_minor": 5
}
